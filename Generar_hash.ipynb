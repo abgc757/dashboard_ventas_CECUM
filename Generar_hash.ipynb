{
 "cells": [
  {
   "cell_type": "markdown",
   "id": "1c1545f5",
   "metadata": {},
   "source": [
    "# Generar Password"
   ]
  },
  {
   "cell_type": "code",
   "execution_count": null,
   "id": "cc4eeb1f",
   "metadata": {},
   "outputs": [],
   "source": [
    "# !pip install bcrypt\n",
    "import bcrypt\n",
    "password = input(\"Ingrese la contraseña: \")\n",
    "hashed = bcrypt.hashpw(password.encode(), bcrypt.gensalt())\n",
    "print(hashed)"
   ]
  }
 ],
 "metadata": {
  "kernelspec": {
   "display_name": "venv",
   "language": "python",
   "name": "python3"
  },
  "language_info": {
   "codemirror_mode": {
    "name": "ipython",
    "version": 3
   },
   "file_extension": ".py",
   "mimetype": "text/x-python",
   "name": "python",
   "nbconvert_exporter": "python",
   "pygments_lexer": "ipython3",
   "version": "3.11.9"
  }
 },
 "nbformat": 4,
 "nbformat_minor": 5
}
