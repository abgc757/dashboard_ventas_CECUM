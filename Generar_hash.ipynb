{
 "cells": [
  {
   "cell_type": "markdown",
   "id": "1c1545f5",
   "metadata": {},
   "source": [
    "# Generar Password"
   ]
  },
  {
   "cell_type": "code",
   "execution_count": 1,
   "id": "cc4eeb1f",
   "metadata": {},
   "outputs": [
    {
     "name": "stdout",
     "output_type": "stream",
     "text": [
      "b'$2b$12$SoxElfFuLGU1U2Ip5qroE.cpOp.lBkQYQOB2AOkTgwt3Z0P1jiLL.'\n"
     ]
    }
   ],
   "source": [
    "# !pip install bcrypt\n",
    "import bcrypt\n",
    "password = input(\"Ingrese la contraseña: \")\n",
    "hashed = bcrypt.hashpw(password.encode(), bcrypt.gensalt())\n",
    "print(hashed)"
   ]
  },
  {
   "cell_type": "code",
   "execution_count": 2,
   "id": "ea0cb5c9",
   "metadata": {},
   "outputs": [],
   "source": [
    "import streamlit as st\n",
    "import streamlit_authenticator as stauth\n",
    "import yaml\n",
    "from yaml.loader import SafeLoader\n",
    "import pandas as pd\n",
    "import numpy as np\n",
    "from datetime import datetime, timedelta\n",
    "import gspread\n",
    "from oauth2client.service_account import ServiceAccountCredentials\n",
    "from gspread_dataframe import set_with_dataframe, get_as_dataframe\n"
   ]
  }
 ],
 "metadata": {
  "kernelspec": {
   "display_name": "venv",
   "language": "python",
   "name": "python3"
  },
  "language_info": {
   "codemirror_mode": {
    "name": "ipython",
    "version": 3
   },
   "file_extension": ".py",
   "mimetype": "text/x-python",
   "name": "python",
   "nbconvert_exporter": "python",
   "pygments_lexer": "ipython3",
   "version": "3.11.9"
  }
 },
 "nbformat": 4,
 "nbformat_minor": 5
}
