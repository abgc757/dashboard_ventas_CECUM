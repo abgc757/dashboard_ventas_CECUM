{
 "cells": [
  {
   "cell_type": "markdown",
   "id": "1c1545f5",
   "metadata": {},
   "source": [
    "# Generar Password"
   ]
  },
  {
   "cell_type": "code",
   "execution_count": 1,
   "id": "cc4eeb1f",
   "metadata": {},
   "outputs": [
    {
     "name": "stdout",
     "output_type": "stream",
     "text": [
      "b'$2b$12$SoxElfFuLGU1U2Ip5qroE.cpOp.lBkQYQOB2AOkTgwt3Z0P1jiLL.'\n"
     ]
    }
   ],
   "source": [
    "# !pip install bcrypt\n",
    "import bcrypt\n",
    "password = input(\"Ingrese la contraseña: \")\n",
    "hashed = bcrypt.hashpw(password.encode(), bcrypt.gensalt())\n",
    "print(hashed)"
   ]
  },
  {
   "cell_type": "markdown",
   "id": "403a1ea3",
   "metadata": {},
   "source": [
    "# Generar credenciales de para la conexión con Google Sheets"
   ]
  },
  {
   "cell_type": "code",
   "execution_count": 74,
   "id": "ea0cb5c9",
   "metadata": {},
   "outputs": [
    {
     "name": "stdout",
     "output_type": "stream",
     "text": [
      "Archivo generado con éxito: .streamlit\\secrets.toml\n",
      "IMPORTANTE: Nunca subas este archivo a control de versiones!\n"
     ]
    }
   ],
   "source": [
    "import json\n",
    "import os\n",
    "\n",
    "def convert_json_to_toml(json_path, output_dir=\".streamlit\"):\n",
    "    \"\"\"Convierte un archivo JSON de credenciales de Google a formato TOML para Streamlit\"\"\"\n",
    "    try:\n",
    "        # Cargar el archivo JSON\n",
    "        with open(json_path, 'r') as f:\n",
    "            credentials = json.load(f)\n",
    "        \n",
    "        # Crear el directorio de salida si no existe\n",
    "        os.makedirs(output_dir, exist_ok=True)\n",
    "        \n",
    "        # Construir el contenido TOML\n",
    "        toml_content = f\"\"\"[gcp_service_account]\n",
    "type = \"{credentials['type']}\"\n",
    "project_id = \"{credentials['project_id']}\"\n",
    "private_key_id = \"{credentials['private_key_id']}\"\n",
    "private_key = \\\"\"\"{credentials['private_key']}\\\"\"\"\n",
    "client_email = \"{credentials['client_email']}\"\n",
    "client_id = \"{credentials['client_id']}\"\n",
    "auth_uri = \"{credentials['auth_uri']}\"\n",
    "token_uri = \"{credentials['token_uri']}\"\n",
    "auth_provider_x509_cert_url = \"{credentials['auth_provider_x509_cert_url']}\"\n",
    "client_x509_cert_url = \"{credentials['client_x509_cert_url']}\"\n",
    "universe_domain = \"{credentials['universe_domain']}\"\n",
    "\"\"\"\n",
    "        # Escribir el archivo TOML\n",
    "        output_path = os.path.join(output_dir, \"secrets.toml\")\n",
    "        with open(output_path, 'w') as f:\n",
    "            f.write(toml_content)\n",
    "        \n",
    "        print(f\"Archivo generado con éxito: {output_path}\")\n",
    "        print(\"IMPORTANTE: Nunca subas este archivo a control de versiones!\")\n",
    "        \n",
    "    except Exception as e:\n",
    "        print(f\"Error: {str(e)}\")\n",
    "\n",
    "if __name__ == \"__main__\":\n",
    "    # Configuración (cambia esto según tus necesidades)\n",
    "    JSON_FILE_PATH = \"accesosDB.json\"  # Ruta a tu archivo JSON descargado\n",
    "    OUTPUT_DIR = \".streamlit\"                # Directorio de salida para secrets.toml\n",
    "    \n",
    "    convert_json_to_toml(JSON_FILE_PATH, OUTPUT_DIR)"
   ]
  }
 ],
 "metadata": {
  "kernelspec": {
   "display_name": "venv",
   "language": "python",
   "name": "python3"
  },
  "language_info": {
   "codemirror_mode": {
    "name": "ipython",
    "version": 3
   },
   "file_extension": ".py",
   "mimetype": "text/x-python",
   "name": "python",
   "nbconvert_exporter": "python",
   "pygments_lexer": "ipython3",
   "version": "3.11.9"
  }
 },
 "nbformat": 4,
 "nbformat_minor": 5
}
